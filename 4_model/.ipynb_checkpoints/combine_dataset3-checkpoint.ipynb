{
 "cells": [
  {
   "cell_type": "code",
   "execution_count": 1,
   "metadata": {},
   "outputs": [],
   "source": [
    "import numpy as np \n",
    "import pandas as pd \n",
    "import matplotlib.pyplot as plt\n",
    "import seaborn as sns\n",
    "import lightgbm as lgb\n",
    "from sklearn.model_selection import KFold\n",
    "import warnings\n",
    "import time\n",
    "import sys\n",
    "import datetime\n",
    "import matplotlib.pyplot as plt\n",
    "import seaborn as sns\n",
    "from sklearn.metrics import mean_squared_error\n",
    "from sklearn.linear_model import BayesianRidge\n",
    "warnings.simplefilter(action='ignore', category=FutureWarning)\n",
    "import gc"
   ]
  },
  {
   "cell_type": "code",
   "execution_count": 2,
   "metadata": {},
   "outputs": [],
   "source": [
    "external2_train = pd.read_csv('../3_cleandata/train_df_elo17.csv')\n",
    "external2_test = pd.read_csv('../3_cleandata/test_df_elo17.csv')"
   ]
  },
  {
   "cell_type": "code",
   "execution_count": 3,
   "metadata": {},
   "outputs": [
    {
     "name": "stdout",
     "output_type": "stream",
     "text": [
      "['first_active_month', 'feature_1', 'feature_2', 'feature_3', 'target', 'outliers', 'quarter', 'elapsed_time', 'days_feature_1', 'days_feature_1_ratio', 'days_feature_2', 'days_feature_2_ratio', 'days_feature_3', 'days_feature_3_ratio', 'features_sum', 'features_mean', 'features_max', 'features_min', 'features_var', 'features_prod', 'new_subsector_id_nunique', 'new_merchant_id_nunique', 'new_merchant_category_id_nunique', 'new_month_mean', 'new_month_min', 'new_month_max', 'new_hour_nunique', 'new_hour_mean', 'new_hour_min', 'new_hour_max', 'new_weekofyear_nunique', 'new_weekofyear_mean', 'new_weekofyear_min', 'new_weekofyear_max', 'new_weekday_mean', 'new_weekday_min', 'new_weekday_max', 'new_day_nunique', 'new_day_mean', 'new_day_min', 'new_day_max', 'new_purchase_amount_sum', 'new_purchase_amount_max', 'new_purchase_amount_min', 'new_purchase_amount_mean', 'new_purchase_amount_var', 'new_purchase_amount_skew', 'new_installments_sum', 'new_installments_max', 'new_installments_mean', 'new_installments_var', 'new_installments_skew', 'new_purchase_date_max', 'new_purchase_date_min', 'new_month_lag_max', 'new_month_lag_min', 'new_month_lag_mean', 'new_month_lag_var', 'new_month_lag_skew', 'new_month_diff_mean', 'new_month_diff_var', 'new_month_diff_skew', 'new_weekend_mean', 'new_category_1_mean', 'new_category_2_mean', 'new_category_3_mean', 'new_card_id_size', 'new_card_id_count', 'new_price_mean', 'new_price_max', 'new_price_min', 'new_price_var', 'new_Christmas_Day_2017_mean', 'new_Christmas_Day_2017_sum', 'new_Children_day_2017_mean', 'new_Children_day_2017_sum', 'new_Black_Friday_2017_mean', 'new_Black_Friday_2017_sum', 'new_Mothers_Day_2018_mean', 'new_Mothers_Day_2018_sum', 'new_duration_mean', 'new_duration_min', 'new_duration_max', 'new_duration_var', 'new_duration_skew', 'new_amount_month_ratio_mean', 'new_amount_month_ratio_min', 'new_amount_month_ratio_max', 'new_amount_month_ratio_var', 'new_amount_month_ratio_skew', 'new_category_2_mean_mean', 'new_category_3_mean_mean', 'new_CLV', 'new_purchase_date_diff', 'new_purchase_date_average', 'new_purchase_date_uptonow', 'new_purchase_date_uptomin', 'hist_subsector_id_nunique', 'hist_merchant_id_nunique', 'hist_merchant_category_id_nunique', 'hist_month_nunique', 'hist_month_mean', 'hist_month_min', 'hist_month_max', 'hist_hour_nunique', 'hist_hour_mean', 'hist_hour_min', 'hist_hour_max', 'hist_weekofyear_nunique', 'hist_weekofyear_mean', 'hist_weekofyear_min', 'hist_weekofyear_max', 'hist_weekday_mean', 'hist_day_nunique', 'hist_day_mean', 'hist_day_min', 'hist_purchase_amount_sum', 'hist_purchase_amount_max', 'hist_purchase_amount_min', 'hist_purchase_amount_mean', 'hist_purchase_amount_var', 'hist_purchase_amount_skew', 'hist_installments_sum', 'hist_installments_max', 'hist_installments_mean', 'hist_installments_var', 'hist_installments_skew', 'hist_purchase_date_max', 'hist_purchase_date_min', 'hist_month_lag_max', 'hist_month_lag_min', 'hist_month_lag_mean', 'hist_month_lag_var', 'hist_month_lag_skew', 'hist_month_diff_max', 'hist_month_diff_min', 'hist_month_diff_mean', 'hist_month_diff_var', 'hist_month_diff_skew', 'hist_authorized_flag_mean', 'hist_weekend_mean', 'hist_category_1_mean', 'hist_category_2_mean', 'hist_category_3_mean', 'hist_card_id_size', 'hist_card_id_count', 'hist_price_sum', 'hist_price_mean', 'hist_price_max', 'hist_price_min', 'hist_price_var', 'hist_Christmas_Day_2017_mean', 'hist_Christmas_Day_2017_sum', 'hist_Mothers_Day_2017_mean', 'hist_Mothers_Day_2017_sum', 'hist_fathers_day_2017_mean', 'hist_fathers_day_2017_sum', 'hist_Children_day_2017_mean', 'hist_Children_day_2017_sum', 'hist_Valentine_Day_2017_mean', 'hist_Valentine_Day_2017_sum', 'hist_Black_Friday_2017_mean', 'hist_Black_Friday_2017_sum', 'hist_Mothers_Day_2018_mean', 'hist_Mothers_Day_2018_sum', 'hist_duration_mean', 'hist_duration_min', 'hist_duration_max', 'hist_duration_var', 'hist_duration_skew', 'hist_amount_month_ratio_mean', 'hist_amount_month_ratio_min', 'hist_amount_month_ratio_max', 'hist_amount_month_ratio_var', 'hist_amount_month_ratio_skew', 'hist_category_2_mean_mean', 'hist_category_3_mean_mean', 'hist_CLV', 'hist_purchase_date_diff', 'hist_purchase_date_average', 'hist_purchase_date_uptonow', 'hist_purchase_date_uptomin', 'hist_first_buy', 'hist_last_buy', 'new_first_buy', 'new_last_buy', 'card_id_total', 'card_id_cnt_total', 'card_id_cnt_ratio', 'purchase_amount_total', 'purchase_amount_mean', 'purchase_amount_max', 'purchase_amount_min', 'purchase_amount_ratio', 'installments_total', 'installments_mean', 'installments_max', 'installments_ratio', 'price_total', 'price_mean', 'price_max', 'month_diff_mean', 'month_diff_ratio', 'month_lag_mean', 'month_lag_max', 'month_lag_min', 'category_1_mean', 'duration_mean', 'duration_min', 'duration_max', 'amount_month_ratio_mean', 'amount_month_ratio_min', 'amount_month_ratio_max', 'CLV_ratio', 'CLV_sq']\n"
     ]
    }
   ],
   "source": [
    "print(list(external2_train.columns))"
   ]
  },
  {
   "cell_type": "code",
   "execution_count": 4,
   "metadata": {},
   "outputs": [],
   "source": [
    "col2 = ['new_Christmas_Day_2017_mean', 'new_Christmas_Day_2017_sum', 'new_Children_day_2017_mean', 'new_Children_day_2017_sum', 'new_Black_Friday_2017_mean', 'new_Black_Friday_2017_sum', 'new_Mothers_Day_2018_mean', 'new_Mothers_Day_2018_sum','hist_Christmas_Day_2017_mean', 'hist_Christmas_Day_2017_sum', 'hist_Mothers_Day_2017_mean', 'hist_Mothers_Day_2017_sum', 'hist_fathers_day_2017_mean', 'hist_fathers_day_2017_sum', 'hist_Children_day_2017_mean', 'hist_Children_day_2017_sum', 'hist_Valentine_Day_2017_mean', 'hist_Valentine_Day_2017_sum', 'hist_Black_Friday_2017_mean', 'hist_Black_Friday_2017_sum', 'hist_Mothers_Day_2018_mean', 'hist_Mothers_Day_2018_sum']\n",
    "external2_train = external2_train[col2]\n",
    "external2_test = external2_test[col2]\n"
   ]
  },
  {
   "cell_type": "code",
   "execution_count": 5,
   "metadata": {},
   "outputs": [],
   "source": [
    "internal_train = pd.read_csv('../3_cleandata/train_1.csv')\n",
    "internal_test = pd.read_csv('../3_cleandata/test_1.csv')"
   ]
  },
  {
   "cell_type": "code",
   "execution_count": 6,
   "metadata": {},
   "outputs": [
    {
     "name": "stdout",
     "output_type": "stream",
     "text": [
      "['feature_1', 'feature_2', 'feature_3', 'elapsed_time', 'hist_transactions_count', 'hist_category_1_sum', 'hist_category_1_mean', 'hist_category_2_1.0_mean', 'hist_category_2_2.0_mean', 'hist_category_2_3.0_mean', 'hist_category_2_4.0_mean', 'hist_category_2_5.0_mean', 'hist_category_3_A_mean', 'hist_category_3_B_mean', 'hist_category_3_C_mean', 'hist_merchant_id_nunique', 'hist_merchant_category_id_nunique', 'hist_state_id_nunique', 'hist_city_id_nunique', 'hist_subsector_id_nunique', 'hist_purchase_amount_sum', 'hist_purchase_amount_mean', 'hist_purchase_amount_max', 'hist_purchase_amount_min', 'hist_purchase_amount_std', 'hist_installments_sum', 'hist_installments_mean', 'hist_installments_max', 'hist_installments_min', 'hist_installments_std', 'hist_purchase_month_mean', 'hist_purchase_month_max', 'hist_purchase_month_min', 'hist_purchase_month_std', 'hist_purchase_date_ptp', 'hist_purchase_date_min', 'hist_purchase_date_max', 'hist_month_lag_min', 'hist_month_lag_max', 'auth_transactions_count', 'auth_category_1_sum', 'auth_category_1_mean', 'auth_category_2_1.0_mean', 'auth_category_2_2.0_mean', 'auth_category_2_3.0_mean', 'auth_category_2_4.0_mean', 'auth_category_2_5.0_mean', 'auth_category_3_A_mean', 'auth_category_3_B_mean', 'auth_category_3_C_mean', 'auth_merchant_id_nunique', 'auth_merchant_category_id_nunique', 'auth_state_id_nunique', 'auth_city_id_nunique', 'auth_subsector_id_nunique', 'auth_purchase_amount_sum', 'auth_purchase_amount_mean', 'auth_purchase_amount_max', 'auth_purchase_amount_min', 'auth_purchase_amount_std', 'auth_installments_sum', 'auth_installments_mean', 'auth_installments_max', 'auth_installments_min', 'auth_installments_std', 'auth_purchase_month_mean', 'auth_purchase_month_max', 'auth_purchase_month_min', 'auth_purchase_month_std', 'auth_purchase_date_ptp', 'auth_purchase_date_min', 'auth_purchase_date_max', 'auth_month_lag_min', 'auth_month_lag_max', 'new_transactions_count', 'new_category_1_sum', 'new_category_1_mean', 'new_category_2_1.0_mean', 'new_category_2_2.0_mean', 'new_category_2_3.0_mean', 'new_category_2_4.0_mean', 'new_category_2_5.0_mean', 'new_category_3_A_mean', 'new_category_3_B_mean', 'new_category_3_C_mean', 'new_merchant_id_nunique', 'new_merchant_category_id_nunique', 'new_state_id_nunique', 'new_city_id_nunique', 'new_subsector_id_nunique', 'new_purchase_amount_sum', 'new_purchase_amount_mean', 'new_purchase_amount_max', 'new_purchase_amount_min', 'new_purchase_amount_std', 'new_installments_sum', 'new_installments_mean', 'new_installments_max', 'new_installments_min', 'new_installments_std', 'new_purchase_month_mean', 'new_purchase_month_max', 'new_purchase_month_min', 'new_purchase_month_std', 'new_purchase_date_ptp', 'new_purchase_date_min', 'new_purchase_date_max', 'new_month_lag_min', 'new_month_lag_max', 'month_lag_mean', 'month_lag_std', 'purchase_amount_count_mean', 'purchase_amount_count_std', 'purchase_amount_sum_mean', 'purchase_amount_sum_std', 'purchase_amount_mean_mean', 'purchase_amount_mean_std', 'purchase_amount_min_mean', 'purchase_amount_min_std', 'purchase_amount_max_mean', 'purchase_amount_max_std', 'purchase_amount_std_mean', 'purchase_amount_std_std', 'installments_count_mean', 'installments_count_std', 'installments_sum_mean', 'installments_sum_std', 'installments_mean_mean', 'installments_mean_std', 'installments_min_mean', 'installments_min_std', 'installments_max_mean', 'installments_max_std', 'installments_std_mean', 'installments_std_std', 'authorized_flag_sum', 'authorized_flag_mean', 'card_id', 'first_active_month']\n"
     ]
    }
   ],
   "source": [
    "print(list(internal_train.columns))"
   ]
  },
  {
   "cell_type": "code",
   "execution_count": 7,
   "metadata": {},
   "outputs": [
    {
     "data": {
      "text/plain": [
       "(201917, 139)"
      ]
     },
     "execution_count": 7,
     "metadata": {},
     "output_type": "execute_result"
    }
   ],
   "source": [
    "internal_train.shape"
   ]
  },
  {
   "cell_type": "code",
   "execution_count": 8,
   "metadata": {},
   "outputs": [],
   "source": [
    "external_test = pd.read_csv('../3_cleandata/test_ext1.csv')\n",
    "external_train = pd.read_csv('../3_cleandata/train_ext1.csv')\n"
   ]
  },
  {
   "cell_type": "code",
   "execution_count": 9,
   "metadata": {},
   "outputs": [],
   "source": [
    "target = pd.read_csv('../3_cleandata/target_int.csv',header= None)"
   ]
  },
  {
   "cell_type": "code",
   "execution_count": 10,
   "metadata": {},
   "outputs": [
    {
     "data": {
      "text/plain": [
       "(201917, 215)"
      ]
     },
     "execution_count": 10,
     "metadata": {},
     "output_type": "execute_result"
    }
   ],
   "source": [
    "external_train.shape"
   ]
  },
  {
   "cell_type": "code",
   "execution_count": 11,
   "metadata": {},
   "outputs": [
    {
     "data": {
      "text/html": [
       "<div>\n",
       "<style scoped>\n",
       "    .dataframe tbody tr th:only-of-type {\n",
       "        vertical-align: middle;\n",
       "    }\n",
       "\n",
       "    .dataframe tbody tr th {\n",
       "        vertical-align: top;\n",
       "    }\n",
       "\n",
       "    .dataframe thead th {\n",
       "        text-align: right;\n",
       "    }\n",
       "</style>\n",
       "<table border=\"1\" class=\"dataframe\">\n",
       "  <thead>\n",
       "    <tr style=\"text-align: right;\">\n",
       "      <th></th>\n",
       "      <th>first_active_month</th>\n",
       "      <th>feature_1</th>\n",
       "      <th>feature_2</th>\n",
       "      <th>feature_3</th>\n",
       "      <th>target</th>\n",
       "      <th>outliers</th>\n",
       "      <th>quarter</th>\n",
       "      <th>elapsed_time</th>\n",
       "      <th>days_feature_1</th>\n",
       "      <th>days_feature_1_ratio</th>\n",
       "      <th>...</th>\n",
       "      <th>month_lag_min</th>\n",
       "      <th>category_1_mean</th>\n",
       "      <th>duration_mean</th>\n",
       "      <th>duration_min</th>\n",
       "      <th>duration_max</th>\n",
       "      <th>amount_month_ratio_mean</th>\n",
       "      <th>amount_month_ratio_min</th>\n",
       "      <th>amount_month_ratio_max</th>\n",
       "      <th>CLV_ratio</th>\n",
       "      <th>CLV_sq</th>\n",
       "    </tr>\n",
       "  </thead>\n",
       "  <tbody>\n",
       "    <tr>\n",
       "      <th>0</th>\n",
       "      <td>2017-06-01</td>\n",
       "      <td>0.013145</td>\n",
       "      <td>0.00875</td>\n",
       "      <td>0.011430</td>\n",
       "      <td>-0.8203</td>\n",
       "      <td>0</td>\n",
       "      <td>2</td>\n",
       "      <td>604</td>\n",
       "      <td>3020</td>\n",
       "      <td>0.008280</td>\n",
       "      <td>...</td>\n",
       "      <td>-7.0</td>\n",
       "      <td>0.00000</td>\n",
       "      <td>-13.470</td>\n",
       "      <td>-16.78</td>\n",
       "      <td>5.540</td>\n",
       "      <td>-0.11050</td>\n",
       "      <td>-0.1330</td>\n",
       "      <td>0.04584</td>\n",
       "      <td>0.007045</td>\n",
       "      <td>108812.65000</td>\n",
       "    </tr>\n",
       "    <tr>\n",
       "      <th>1</th>\n",
       "      <td>2017-01-01</td>\n",
       "      <td>0.010710</td>\n",
       "      <td>0.01138</td>\n",
       "      <td>0.010284</td>\n",
       "      <td>0.3928</td>\n",
       "      <td>0</td>\n",
       "      <td>1</td>\n",
       "      <td>755</td>\n",
       "      <td>3020</td>\n",
       "      <td>0.005300</td>\n",
       "      <td>...</td>\n",
       "      <td>-11.0</td>\n",
       "      <td>0.08856</td>\n",
       "      <td>-16.160</td>\n",
       "      <td>-18.47</td>\n",
       "      <td>1.180</td>\n",
       "      <td>-0.11145</td>\n",
       "      <td>-0.1283</td>\n",
       "      <td>0.00815</td>\n",
       "      <td>0.000349</td>\n",
       "      <td>13576.58700</td>\n",
       "    </tr>\n",
       "    <tr>\n",
       "      <th>2</th>\n",
       "      <td>2016-08-01</td>\n",
       "      <td>0.010610</td>\n",
       "      <td>0.00875</td>\n",
       "      <td>0.010284</td>\n",
       "      <td>0.6880</td>\n",
       "      <td>0</td>\n",
       "      <td>3</td>\n",
       "      <td>908</td>\n",
       "      <td>1816</td>\n",
       "      <td>0.002203</td>\n",
       "      <td>...</td>\n",
       "      <td>-11.0</td>\n",
       "      <td>0.00000</td>\n",
       "      <td>-15.220</td>\n",
       "      <td>-16.44</td>\n",
       "      <td>-9.305</td>\n",
       "      <td>-0.12494</td>\n",
       "      <td>-0.1301</td>\n",
       "      <td>-0.07690</td>\n",
       "      <td>0.000562</td>\n",
       "      <td>7.21371</td>\n",
       "    </tr>\n",
       "    <tr>\n",
       "      <th>3</th>\n",
       "      <td>2017-09-01</td>\n",
       "      <td>0.010710</td>\n",
       "      <td>0.01417</td>\n",
       "      <td>0.010284</td>\n",
       "      <td>0.1425</td>\n",
       "      <td>0</td>\n",
       "      <td>3</td>\n",
       "      <td>512</td>\n",
       "      <td>2048</td>\n",
       "      <td>0.007812</td>\n",
       "      <td>...</td>\n",
       "      <td>-4.0</td>\n",
       "      <td>0.29880</td>\n",
       "      <td>-14.484</td>\n",
       "      <td>-16.92</td>\n",
       "      <td>2.562</td>\n",
       "      <td>-0.11960</td>\n",
       "      <td>-0.1384</td>\n",
       "      <td>0.02124</td>\n",
       "      <td>0.008454</td>\n",
       "      <td>1038.37830</td>\n",
       "    </tr>\n",
       "    <tr>\n",
       "      <th>4</th>\n",
       "      <td>2017-11-01</td>\n",
       "      <td>0.008060</td>\n",
       "      <td>0.01417</td>\n",
       "      <td>0.010284</td>\n",
       "      <td>-0.1598</td>\n",
       "      <td>0</td>\n",
       "      <td>4</td>\n",
       "      <td>451</td>\n",
       "      <td>451</td>\n",
       "      <td>0.002218</td>\n",
       "      <td>...</td>\n",
       "      <td>-2.0</td>\n",
       "      <td>0.16830</td>\n",
       "      <td>-12.310</td>\n",
       "      <td>-16.72</td>\n",
       "      <td>13.760</td>\n",
       "      <td>-0.10175</td>\n",
       "      <td>-0.1377</td>\n",
       "      <td>0.11380</td>\n",
       "      <td>0.071696</td>\n",
       "      <td>59269.74200</td>\n",
       "    </tr>\n",
       "  </tbody>\n",
       "</table>\n",
       "<p>5 rows × 215 columns</p>\n",
       "</div>"
      ],
      "text/plain": [
       "  first_active_month  feature_1  feature_2  feature_3  target  outliers  \\\n",
       "0         2017-06-01   0.013145    0.00875   0.011430 -0.8203         0   \n",
       "1         2017-01-01   0.010710    0.01138   0.010284  0.3928         0   \n",
       "2         2016-08-01   0.010610    0.00875   0.010284  0.6880         0   \n",
       "3         2017-09-01   0.010710    0.01417   0.010284  0.1425         0   \n",
       "4         2017-11-01   0.008060    0.01417   0.010284 -0.1598         0   \n",
       "\n",
       "   quarter  elapsed_time  days_feature_1  days_feature_1_ratio  ...  \\\n",
       "0        2           604            3020              0.008280  ...   \n",
       "1        1           755            3020              0.005300  ...   \n",
       "2        3           908            1816              0.002203  ...   \n",
       "3        3           512            2048              0.007812  ...   \n",
       "4        4           451             451              0.002218  ...   \n",
       "\n",
       "   month_lag_min  category_1_mean  duration_mean  duration_min  duration_max  \\\n",
       "0           -7.0          0.00000        -13.470        -16.78         5.540   \n",
       "1          -11.0          0.08856        -16.160        -18.47         1.180   \n",
       "2          -11.0          0.00000        -15.220        -16.44        -9.305   \n",
       "3           -4.0          0.29880        -14.484        -16.92         2.562   \n",
       "4           -2.0          0.16830        -12.310        -16.72        13.760   \n",
       "\n",
       "   amount_month_ratio_mean  amount_month_ratio_min  amount_month_ratio_max  \\\n",
       "0                 -0.11050                 -0.1330                 0.04584   \n",
       "1                 -0.11145                 -0.1283                 0.00815   \n",
       "2                 -0.12494                 -0.1301                -0.07690   \n",
       "3                 -0.11960                 -0.1384                 0.02124   \n",
       "4                 -0.10175                 -0.1377                 0.11380   \n",
       "\n",
       "   CLV_ratio        CLV_sq  \n",
       "0   0.007045  108812.65000  \n",
       "1   0.000349   13576.58700  \n",
       "2   0.000562       7.21371  \n",
       "3   0.008454    1038.37830  \n",
       "4   0.071696   59269.74200  \n",
       "\n",
       "[5 rows x 215 columns]"
      ]
     },
     "execution_count": 11,
     "metadata": {},
     "output_type": "execute_result"
    }
   ],
   "source": [
    "external_train.head()"
   ]
  },
  {
   "cell_type": "code",
   "execution_count": 12,
   "metadata": {},
   "outputs": [
    {
     "data": {
      "text/html": [
       "<div>\n",
       "<style scoped>\n",
       "    .dataframe tbody tr th:only-of-type {\n",
       "        vertical-align: middle;\n",
       "    }\n",
       "\n",
       "    .dataframe tbody tr th {\n",
       "        vertical-align: top;\n",
       "    }\n",
       "\n",
       "    .dataframe thead th {\n",
       "        text-align: right;\n",
       "    }\n",
       "</style>\n",
       "<table border=\"1\" class=\"dataframe\">\n",
       "  <thead>\n",
       "    <tr style=\"text-align: right;\">\n",
       "      <th></th>\n",
       "      <th>feature_1</th>\n",
       "      <th>feature_2</th>\n",
       "      <th>feature_3</th>\n",
       "      <th>elapsed_time</th>\n",
       "      <th>hist_transactions_count</th>\n",
       "      <th>hist_category_1_sum</th>\n",
       "      <th>hist_category_1_mean</th>\n",
       "      <th>hist_category_2_1.0_mean</th>\n",
       "      <th>hist_category_2_2.0_mean</th>\n",
       "      <th>hist_category_2_3.0_mean</th>\n",
       "      <th>...</th>\n",
       "      <th>installments_min_mean</th>\n",
       "      <th>installments_min_std</th>\n",
       "      <th>installments_max_mean</th>\n",
       "      <th>installments_max_std</th>\n",
       "      <th>installments_std_mean</th>\n",
       "      <th>installments_std_std</th>\n",
       "      <th>authorized_flag_sum</th>\n",
       "      <th>authorized_flag_mean</th>\n",
       "      <th>card_id</th>\n",
       "      <th>first_active_month</th>\n",
       "    </tr>\n",
       "  </thead>\n",
       "  <tbody>\n",
       "    <tr>\n",
       "      <th>0</th>\n",
       "      <td>1.597335</td>\n",
       "      <td>0.338839</td>\n",
       "      <td>0.876431</td>\n",
       "      <td>-0.466376</td>\n",
       "      <td>0.311084</td>\n",
       "      <td>-0.234615</td>\n",
       "      <td>-0.548342</td>\n",
       "      <td>1.203092</td>\n",
       "      <td>-0.209665</td>\n",
       "      <td>-0.432998</td>\n",
       "      <td>...</td>\n",
       "      <td>-0.098800</td>\n",
       "      <td>-0.041617</td>\n",
       "      <td>-0.085851</td>\n",
       "      <td>-0.053041</td>\n",
       "      <td>-0.024789</td>\n",
       "      <td>-0.035181</td>\n",
       "      <td>1.667028</td>\n",
       "      <td>0.494966</td>\n",
       "      <td>C_ID_92a2005557</td>\n",
       "      <td>2017-06-01</td>\n",
       "    </tr>\n",
       "    <tr>\n",
       "      <th>1</th>\n",
       "      <td>0.754276</td>\n",
       "      <td>-0.992082</td>\n",
       "      <td>-1.140992</td>\n",
       "      <td>0.047738</td>\n",
       "      <td>0.150070</td>\n",
       "      <td>0.011414</td>\n",
       "      <td>0.048638</td>\n",
       "      <td>0.798033</td>\n",
       "      <td>-0.209665</td>\n",
       "      <td>-0.432998</td>\n",
       "      <td>...</td>\n",
       "      <td>0.252809</td>\n",
       "      <td>0.279891</td>\n",
       "      <td>0.288626</td>\n",
       "      <td>0.225142</td>\n",
       "      <td>0.202897</td>\n",
       "      <td>0.323511</td>\n",
       "      <td>2.594044</td>\n",
       "      <td>0.657240</td>\n",
       "      <td>C_ID_3d0044924f</td>\n",
       "      <td>2017-01-01</td>\n",
       "    </tr>\n",
       "    <tr>\n",
       "      <th>2</th>\n",
       "      <td>-0.931842</td>\n",
       "      <td>0.338839</td>\n",
       "      <td>-1.140992</td>\n",
       "      <td>0.568661</td>\n",
       "      <td>-0.574497</td>\n",
       "      <td>-0.234615</td>\n",
       "      <td>-0.548342</td>\n",
       "      <td>-1.024733</td>\n",
       "      <td>-0.209665</td>\n",
       "      <td>-0.432998</td>\n",
       "      <td>...</td>\n",
       "      <td>-0.116381</td>\n",
       "      <td>-0.081152</td>\n",
       "      <td>-0.127460</td>\n",
       "      <td>-0.093761</td>\n",
       "      <td>NaN</td>\n",
       "      <td>NaN</td>\n",
       "      <td>-0.408683</td>\n",
       "      <td>0.525447</td>\n",
       "      <td>C_ID_d639edf6cd</td>\n",
       "      <td>2016-08-01</td>\n",
       "    </tr>\n",
       "    <tr>\n",
       "      <th>3</th>\n",
       "      <td>0.754276</td>\n",
       "      <td>1.669759</td>\n",
       "      <td>-1.140992</td>\n",
       "      <td>-0.779611</td>\n",
       "      <td>NaN</td>\n",
       "      <td>NaN</td>\n",
       "      <td>NaN</td>\n",
       "      <td>NaN</td>\n",
       "      <td>NaN</td>\n",
       "      <td>NaN</td>\n",
       "      <td>...</td>\n",
       "      <td>NaN</td>\n",
       "      <td>NaN</td>\n",
       "      <td>NaN</td>\n",
       "      <td>NaN</td>\n",
       "      <td>NaN</td>\n",
       "      <td>NaN</td>\n",
       "      <td>-0.045938</td>\n",
       "      <td>0.931856</td>\n",
       "      <td>C_ID_186d6a6901</td>\n",
       "      <td>2017-09-01</td>\n",
       "    </tr>\n",
       "    <tr>\n",
       "      <th>4</th>\n",
       "      <td>-1.774901</td>\n",
       "      <td>1.669759</td>\n",
       "      <td>-1.140992</td>\n",
       "      <td>-0.987299</td>\n",
       "      <td>-0.332975</td>\n",
       "      <td>0.134429</td>\n",
       "      <td>1.421691</td>\n",
       "      <td>-1.024733</td>\n",
       "      <td>-0.209665</td>\n",
       "      <td>-0.432998</td>\n",
       "      <td>...</td>\n",
       "      <td>0.569258</td>\n",
       "      <td>0.672080</td>\n",
       "      <td>0.413451</td>\n",
       "      <td>0.484505</td>\n",
       "      <td>-0.065333</td>\n",
       "      <td>-0.085980</td>\n",
       "      <td>0.467952</td>\n",
       "      <td>0.603368</td>\n",
       "      <td>C_ID_cdbd2c0db2</td>\n",
       "      <td>2017-11-01</td>\n",
       "    </tr>\n",
       "  </tbody>\n",
       "</table>\n",
       "<p>5 rows × 139 columns</p>\n",
       "</div>"
      ],
      "text/plain": [
       "   feature_1  feature_2  feature_3  elapsed_time  hist_transactions_count  \\\n",
       "0   1.597335   0.338839   0.876431     -0.466376                 0.311084   \n",
       "1   0.754276  -0.992082  -1.140992      0.047738                 0.150070   \n",
       "2  -0.931842   0.338839  -1.140992      0.568661                -0.574497   \n",
       "3   0.754276   1.669759  -1.140992     -0.779611                      NaN   \n",
       "4  -1.774901   1.669759  -1.140992     -0.987299                -0.332975   \n",
       "\n",
       "   hist_category_1_sum  hist_category_1_mean  hist_category_2_1.0_mean  \\\n",
       "0            -0.234615             -0.548342                  1.203092   \n",
       "1             0.011414              0.048638                  0.798033   \n",
       "2            -0.234615             -0.548342                 -1.024733   \n",
       "3                  NaN                   NaN                       NaN   \n",
       "4             0.134429              1.421691                 -1.024733   \n",
       "\n",
       "   hist_category_2_2.0_mean  hist_category_2_3.0_mean  ...  \\\n",
       "0                 -0.209665                 -0.432998  ...   \n",
       "1                 -0.209665                 -0.432998  ...   \n",
       "2                 -0.209665                 -0.432998  ...   \n",
       "3                       NaN                       NaN  ...   \n",
       "4                 -0.209665                 -0.432998  ...   \n",
       "\n",
       "   installments_min_mean  installments_min_std  installments_max_mean  \\\n",
       "0              -0.098800             -0.041617              -0.085851   \n",
       "1               0.252809              0.279891               0.288626   \n",
       "2              -0.116381             -0.081152              -0.127460   \n",
       "3                    NaN                   NaN                    NaN   \n",
       "4               0.569258              0.672080               0.413451   \n",
       "\n",
       "   installments_max_std  installments_std_mean  installments_std_std  \\\n",
       "0             -0.053041              -0.024789             -0.035181   \n",
       "1              0.225142               0.202897              0.323511   \n",
       "2             -0.093761                    NaN                   NaN   \n",
       "3                   NaN                    NaN                   NaN   \n",
       "4              0.484505              -0.065333             -0.085980   \n",
       "\n",
       "   authorized_flag_sum  authorized_flag_mean          card_id  \\\n",
       "0             1.667028              0.494966  C_ID_92a2005557   \n",
       "1             2.594044              0.657240  C_ID_3d0044924f   \n",
       "2            -0.408683              0.525447  C_ID_d639edf6cd   \n",
       "3            -0.045938              0.931856  C_ID_186d6a6901   \n",
       "4             0.467952              0.603368  C_ID_cdbd2c0db2   \n",
       "\n",
       "   first_active_month  \n",
       "0          2017-06-01  \n",
       "1          2017-01-01  \n",
       "2          2016-08-01  \n",
       "3          2017-09-01  \n",
       "4          2017-11-01  \n",
       "\n",
       "[5 rows x 139 columns]"
      ]
     },
     "execution_count": 12,
     "metadata": {},
     "output_type": "execute_result"
    }
   ],
   "source": [
    "internal_train.head()"
   ]
  },
  {
   "cell_type": "code",
   "execution_count": 13,
   "metadata": {},
   "outputs": [],
   "source": [
    "cols = ['hist_Christmas_Day_2017_mean','hist_Christmas_Day_2017_sum', 'hist_Mothers_Day_2017_mean',\n",
    " 'hist_Mothers_Day_2017_sum', 'hist_fathers_day_2017_mean', 'hist_fathers_day_2017_sum',\n",
    " 'hist_Children_day_2017_mean', 'hist_Children_day_2017_sum', 'hist_Valentine_Day_2017_mean',\n",
    " 'hist_Valentine_Day_2017_sum', 'hist_Black_Friday_2017_mean', 'hist_Black_Friday_2017_sum',\n",
    " 'hist_Mothers_Day_2018_mean', 'hist_Mothers_Day_2018_sum', 'CLV_ratio',\n",
    " 'CLV_sq', 'new_Christmas_Day_2017_mean', 'new_Christmas_Day_2017_sum',\n",
    " 'new_Children_day_2017_mean', 'new_Children_day_2017_sum', 'new_Black_Friday_2017_mean','new_Black_Friday_2017_sum',\n",
    " 'new_Mothers_Day_2018_mean', 'new_Mothers_Day_2018_sum',]\n",
    "\n",
    "def joining_dataset(internal, external,external2,cols):\n",
    "    combine = pd.concat([external2,internal,external[cols]] ,axis=1, join='inner')\n",
    "    return combine\n",
    "\n",
    "train = joining_dataset(internal= internal_train, external= external_train,external2 = external2_train, cols = cols)\n",
    "test = joining_dataset(internal= internal_test, external= external_test,external2 = external2_test, cols = cols)"
   ]
  },
  {
   "cell_type": "code",
   "execution_count": 14,
   "metadata": {},
   "outputs": [
    {
     "data": {
      "text/plain": [
       "(201917, 185)"
      ]
     },
     "execution_count": 14,
     "metadata": {},
     "output_type": "execute_result"
    }
   ],
   "source": [
    "train.shape"
   ]
  },
  {
   "cell_type": "code",
   "execution_count": 15,
   "metadata": {},
   "outputs": [
    {
     "data": {
      "text/plain": [
       "(123623, 185)"
      ]
     },
     "execution_count": 15,
     "metadata": {},
     "output_type": "execute_result"
    }
   ],
   "source": [
    "test.shape"
   ]
  },
  {
   "cell_type": "code",
   "execution_count": 16,
   "metadata": {},
   "outputs": [
    {
     "name": "stderr",
     "output_type": "stream",
     "text": [
      "/home/tung/miniconda3/envs/kaggle/lib/python3.7/site-packages/ipykernel_launcher.py:4: SettingWithCopyWarning: \n",
      "A value is trying to be set on a copy of a slice from a DataFrame.\n",
      "Try using .loc[row_indexer,col_indexer] = value instead\n",
      "\n",
      "See the caveats in the documentation: http://pandas.pydata.org/pandas-docs/stable/indexing.html#indexing-view-versus-copy\n",
      "  after removing the cwd from sys.path.\n"
     ]
    },
    {
     "name": "stdout",
     "output_type": "stream",
     "text": [
      "(201917, 164)\n",
      "(123623, 163)\n"
     ]
    }
   ],
   "source": [
    " _, i = np.unique(train.columns, return_index=True)\n",
    "\n",
    "train_df =train.iloc[:, i]\n",
    "train_df['target'] = target\n",
    "print(train_df.shape)\n",
    " _, j = np.unique(test.columns, return_index=True)\n",
    "test_df =test.iloc[:, j]\n",
    "print(test_df.shape)"
   ]
  },
  {
   "cell_type": "code",
   "execution_count": 17,
   "metadata": {},
   "outputs": [
    {
     "name": "stderr",
     "output_type": "stream",
     "text": [
      "/home/tung/miniconda3/envs/kaggle/lib/python3.7/site-packages/pandas/core/frame.py:4032: SettingWithCopyWarning: \n",
      "A value is trying to be set on a copy of a slice from a DataFrame\n",
      "\n",
      "See the caveats in the documentation: http://pandas.pydata.org/pandas-docs/stable/indexing.html#indexing-view-versus-copy\n",
      "  method=method)\n",
      "/home/tung/miniconda3/envs/kaggle/lib/python3.7/site-packages/pandas/core/frame.py:4024: SettingWithCopyWarning: \n",
      "A value is trying to be set on a copy of a slice from a DataFrame\n",
      "\n",
      "See the caveats in the documentation: http://pandas.pydata.org/pandas-docs/stable/indexing.html#indexing-view-versus-copy\n",
      "  downcast=downcast, **kwargs)\n"
     ]
    }
   ],
   "source": [
    "train_df.replace([np.inf, -np.inf], np.nan,inplace = True)\n",
    "train_df.fillna(0,inplace = True)"
   ]
  },
  {
   "cell_type": "code",
   "execution_count": 18,
   "metadata": {},
   "outputs": [],
   "source": [
    "#exclude the card_id and first_active month in the features \n",
    "features = [c for c in train.columns if c not in ['card_id', 'first_active_month']]\n",
    "#create a list of categorical features \n",
    "categorical_feats = [c for c in features if 'feature_' in c]"
   ]
  },
  {
   "cell_type": "code",
   "execution_count": 19,
   "metadata": {},
   "outputs": [
    {
     "name": "stderr",
     "output_type": "stream",
     "text": [
      "/home/tung/miniconda3/envs/kaggle/lib/python3.7/site-packages/ipykernel_launcher.py:1: SettingWithCopyWarning: \n",
      "A value is trying to be set on a copy of a slice from a DataFrame.\n",
      "Try using .loc[row_indexer,col_indexer] = value instead\n",
      "\n",
      "See the caveats in the documentation: http://pandas.pydata.org/pandas-docs/stable/indexing.html#indexing-view-versus-copy\n",
      "  \"\"\"Entry point for launching an IPython kernel.\n"
     ]
    }
   ],
   "source": [
    "train_df['outlier'] =train_df['target'].apply(lambda x: 1 if x<-30 else 0)"
   ]
  },
  {
   "cell_type": "code",
   "execution_count": 20,
   "metadata": {},
   "outputs": [],
   "source": [
    "target_bin = train_df['outlier']"
   ]
  },
  {
   "cell_type": "code",
   "execution_count": 21,
   "metadata": {},
   "outputs": [],
   "source": [
    "outlier_card = train_df[train_df['outlier'] ==1][['card_id','outlier']]"
   ]
  },
  {
   "cell_type": "code",
   "execution_count": 22,
   "metadata": {},
   "outputs": [],
   "source": [
    "del train_df['target']\n",
    "del train_df['outlier']"
   ]
  },
  {
   "cell_type": "code",
   "execution_count": null,
   "metadata": {},
   "outputs": [],
   "source": []
  },
  {
   "cell_type": "code",
   "execution_count": 23,
   "metadata": {},
   "outputs": [],
   "source": [
    "# #simple train test split\n",
    "\n",
    "# from sklearn.model_selection import train_test_split\n",
    "\n",
    "# X_train, X_test, y_train, y_test = train_test_split(train_df, target_bin, test_size=0.33, random_state=42,stratify = target_bin)"
   ]
  },
  {
   "cell_type": "code",
   "execution_count": 24,
   "metadata": {},
   "outputs": [],
   "source": [
    "# y_train.value_counts()"
   ]
  },
  {
   "cell_type": "code",
   "execution_count": 25,
   "metadata": {},
   "outputs": [],
   "source": [
    "# from annoy import AnnoyIndex\n",
    "# import random\n",
    "\n",
    "# # for i in xrange(1000):\n",
    "# #     v = [random.gauss(0, 1) for z in xrange(f)]\n",
    "# #     t.add_item(i, v)\n",
    "\n",
    "# mapper = {}\n",
    "# i = 0\n",
    "# for index, row in X_train.iterrows():\n",
    "#     mapper[i] = row['card_id']\n",
    "#     i +=1\n",
    "\n",
    "# del X_train['card_id']\n",
    "# X_train  = X_train.select_dtypes(include=['float'])\n",
    "# f =  X_train.shape[1]\n",
    "# t = AnnoyIndex(f)  # Length of item vector that will be indexed\n",
    "\n",
    "# train_list = X_train.values.tolist()\n",
    "\n",
    "\n",
    "# for k in range(len(train_list)):\n",
    "#     t.add_item(k,train_list[k])\n",
    "# t.build(10) # 10 trees\n",
    "# # t.save('test.ann')\n",
    "\n",
    "# # # ...\n",
    "\n",
    "# # u = AnnoyIndex(f)\n",
    "# # u.load('test.ann') # super fast, will just mmap the file\n",
    "# # print(u.get_nns_by_item(0, 1000)) # will find the 1000 nearest neighbors"
   ]
  },
  {
   "cell_type": "code",
   "execution_count": 26,
   "metadata": {},
   "outputs": [],
   "source": [
    "# print(t.get_nns_by_item(2, 10))"
   ]
  },
  {
   "cell_type": "code",
   "execution_count": 27,
   "metadata": {},
   "outputs": [],
   "source": [
    "# outlier_card.head()"
   ]
  },
  {
   "cell_type": "code",
   "execution_count": 28,
   "metadata": {},
   "outputs": [],
   "source": [
    "#get the list of outlier card\n",
    "# outlier_list = outlier_card['card_id'].values.tolist()"
   ]
  },
  {
   "cell_type": "code",
   "execution_count": 29,
   "metadata": {},
   "outputs": [],
   "source": [
    "# test_cardid = X_test['card_id']\n",
    "\n",
    "# X_test  = X_test.select_dtypes(include=['float'])\n",
    "# X_test['card_id'] = test_cardid #add card_id to be the last column\n",
    "# #drop card_id like the one above \n",
    "# # del X_test['card_id']"
   ]
  },
  {
   "cell_type": "code",
   "execution_count": 30,
   "metadata": {},
   "outputs": [],
   "source": [
    "# test_list = X_test.values.tolist()"
   ]
  },
  {
   "cell_type": "code",
   "execution_count": 31,
   "metadata": {},
   "outputs": [],
   "source": [
    "# t.get_nns_by_vector(test_list[0],10, include_distances=False)"
   ]
  },
  {
   "cell_type": "code",
   "execution_count": 32,
   "metadata": {},
   "outputs": [],
   "source": [
    "def return_card_id(nn_list,mapper,outlier_list):\n",
    "    card_list = []\n",
    "    score = 0\n",
    "#     print('length of outlier list : {}'.format(len(outlier_list)))\n",
    "    for nn in nn_list:\n",
    "#         print(nn)\n",
    "        card_list.append(mapper[nn])\n",
    "    for card in card_list:\n",
    "        if card in outlier_list:\n",
    "            score +=1 \n",
    "            \n",
    "    return score\n",
    "\n",
    "# # tung = return_card_id([24219, 22766, 74027, 88883, 108875, 59035, 126303, 37529, 127449, 116035],mapper,outlier_list)"
   ]
  },
  {
   "cell_type": "code",
   "execution_count": 33,
   "metadata": {},
   "outputs": [],
   "source": [
    "# X_test.head()"
   ]
  },
  {
   "cell_type": "code",
   "execution_count": 34,
   "metadata": {},
   "outputs": [],
   "source": [
    "# X_test['embedding'] = X_test.iloc[:,:-1].values.tolist()\n",
    "# # \n",
    "# # X_test = X_test.iloc[ :, -2:]\n",
    "# X_test.head()"
   ]
  },
  {
   "cell_type": "code",
   "execution_count": 35,
   "metadata": {},
   "outputs": [],
   "source": [
    "# X_test['nn_neighbor'] =  X_test['embedding'].apply(lambda x : t.get_nns_by_vector(x,10, include_distances=False))\n",
    "\n",
    "\n",
    "# t.get_nns_by_vector(test_list[0],10, include_distances=False)"
   ]
  },
  {
   "cell_type": "code",
   "execution_count": 36,
   "metadata": {},
   "outputs": [],
   "source": [
    "# X_test.head()"
   ]
  },
  {
   "cell_type": "code",
   "execution_count": 37,
   "metadata": {},
   "outputs": [],
   "source": [
    "# X_test['score'] = X_test['nn_neighbor'].apply(lambda x :return_card_id(x,mapper,outlier_list))"
   ]
  },
  {
   "cell_type": "code",
   "execution_count": 38,
   "metadata": {},
   "outputs": [],
   "source": [
    "# X_test.head()"
   ]
  },
  {
   "cell_type": "code",
   "execution_count": 39,
   "metadata": {},
   "outputs": [],
   "source": [
    "# X_test.iloc[:,:-1].head()"
   ]
  },
  {
   "cell_type": "code",
   "execution_count": 40,
   "metadata": {},
   "outputs": [],
   "source": [
    "# X_test['true_label']= y_test"
   ]
  },
  {
   "cell_type": "code",
   "execution_count": 41,
   "metadata": {},
   "outputs": [],
   "source": [
    "# X_test.head()"
   ]
  },
  {
   "cell_type": "code",
   "execution_count": 42,
   "metadata": {},
   "outputs": [],
   "source": [
    "# X_test['acc'] = 0\n",
    "# X_test.loc[(X_test['score'] != 0) & (X_test['true_label'] == 1),'acc'] = 1\n",
    "    \n",
    "# # X_test['acc'] = X_test.apply(lambda row : accuracy_model(row))\n",
    "# # X_test.head()"
   ]
  },
  {
   "cell_type": "code",
   "execution_count": 43,
   "metadata": {},
   "outputs": [],
   "source": [
    "# X_test['acc'].value_counts()"
   ]
  },
  {
   "cell_type": "code",
   "execution_count": 44,
   "metadata": {},
   "outputs": [],
   "source": [
    "# X_test['true_label'].value_counts()"
   ]
  },
  {
   "cell_type": "code",
   "execution_count": 45,
   "metadata": {},
   "outputs": [],
   "source": [
    "# X_test[(X_test['score'] !=0) & (X_test['true_label'] ==0)].head()"
   ]
  },
  {
   "cell_type": "code",
   "execution_count": 46,
   "metadata": {},
   "outputs": [],
   "source": [
    "#calculate true positive \n",
    "def true_pos(threshold, score, true_label,df):\n",
    "    true_pos = df[(df[score] >= threshold) & (df[true_label] ==1)].shape[0]\n",
    "#     print(true_pos)\n",
    "    return true_pos\n",
    "\n",
    "def true_neg(threshold, score, true_label,df):\n",
    "    tn = df[(df[score] < threshold) & (df[true_label] ==0)].shape[0]\n",
    "#     print(tn)\n",
    "    return tn\n",
    "\n",
    "\n",
    "def false_pos(threshold, score, true_label,df):\n",
    "    fp =df[(df[score] >=threshold) & (df[true_label] ==0)].shape[0]\n",
    "#     print(fp)\n",
    "    return fp\n",
    "\n",
    "def false_neg(threshold, score, true_label,df):\n",
    "    fn = df[(df[score] <threshold) & (df[true_label] ==1)].shape[0]\n",
    "#     print(fn)\n",
    "    return  fn\n",
    "\n",
    "def cal_precision(fp,fn,tp,tn):\n",
    "    \n",
    "    precision = tp/(tp + fp)\n",
    "    return precision\n",
    "\n",
    "def cal_recall(fp,fn,tp,tn):\n",
    "    recall = tp/(tp + fn)\n",
    "    return recall\n",
    "def f1_score(precision, recall):\n",
    "    if (precision + recall) == 0:\n",
    "        return 'error'\n",
    "    else:\n",
    "        f1 = 2*(precision*recall) /(precision + recall)\n",
    "        return f1\n",
    "# X_test[(X_test['score'] >=1) & (X_test['true_label'] ==0)]"
   ]
  },
  {
   "cell_type": "code",
   "execution_count": 47,
   "metadata": {},
   "outputs": [],
   "source": [
    "# max_thres = X_test['score'].max()\n",
    "\n",
    "# for thres in range(max_thres):\n",
    "#     print ('for threshold = {} =========='.format(thres))\n",
    "#     tp =  true_pos(thres,'score','true_label',X_test)\n",
    "#     tn =  true_neg(thres,'score','true_label',X_test)\n",
    "#     fp =  false_pos(thres,'score','true_label',X_test)\n",
    "#     fn =  false_neg(thres,'score','true_label',X_test)\n",
    "#     precision = cal_precision(fp,fn,tp,tn)\n",
    "#     recall = cal_recall(fp,fn,tp,tn)\n",
    "#     f1 = f1_score(precision, recall)\n",
    "#     print((tp+tn)/(fp+ tp+ fn+ tn))\n",
    "#     print(tp , tn, fp,fn,precision,recall,f1)"
   ]
  },
  {
   "cell_type": "code",
   "execution_count": 48,
   "metadata": {
    "scrolled": false
   },
   "outputs": [
    {
     "name": "stdout",
     "output_type": "stream",
     "text": [
      "fold 0 ======================================================================== \n",
      "done with mapper.......\n",
      "done with building tree.....\n",
      "for threshold = 0 ==========\n",
      "true positive :442\n",
      "true negative :0\n",
      "false positive :39942\n",
      "false negative :0\n",
      "accuracy : 0.010944928684627575\n",
      "recall : 1.0\n",
      "F1 score :0.02165286827021996\n",
      "for threshold = 1 ==========\n",
      "true positive :121\n",
      "true negative :36379\n",
      "false positive :3563\n",
      "false negative :321\n",
      "accuracy : 0.903823296354992\n",
      "recall : 0.2737556561085973\n",
      "F1 score :0.058652447891420254\n",
      "for threshold = 2 ==========\n",
      "true positive :26\n",
      "true negative :39502\n",
      "false positive :440\n",
      "false negative :416\n",
      "accuracy : 0.9788034865293186\n",
      "recall : 0.058823529411764705\n",
      "F1 score :0.05726872246696035\n",
      "for threshold = 3 ==========\n",
      "true positive :2\n",
      "true negative :39886\n",
      "false positive :56\n",
      "false negative :440\n",
      "accuracy : 0.9877179080824089\n",
      "recall : 0.004524886877828055\n",
      "F1 score :0.008\n",
      "for threshold = 4 ==========\n",
      "true positive :0\n",
      "true negative :39935\n",
      "false positive :7\n",
      "false negative :442\n",
      "accuracy : 0.988881735340729\n",
      "recall : 0.0\n",
      "F1 score :error\n",
      "fold 1 ======================================================================== \n",
      "done with mapper.......\n",
      "done with building tree.....\n",
      "for threshold = 0 ==========\n",
      "true positive :442\n",
      "true negative :0\n",
      "false positive :39942\n",
      "false negative :0\n",
      "accuracy : 0.010944928684627575\n",
      "recall : 1.0\n",
      "F1 score :0.02165286827021996\n",
      "for threshold = 1 ==========\n",
      "true positive :128\n",
      "true negative :36349\n",
      "false positive :3593\n",
      "false negative :314\n",
      "accuracy : 0.903253763866878\n",
      "recall : 0.2895927601809955\n",
      "F1 score :0.061494114821042514\n",
      "for threshold = 2 ==========\n",
      "true positive :20\n",
      "true negative :39459\n",
      "false positive :483\n",
      "false negative :422\n",
      "accuracy : 0.9775901347068146\n",
      "recall : 0.04524886877828054\n",
      "F1 score :0.042328042328042326\n",
      "for threshold = 3 ==========\n",
      "true positive :6\n",
      "true negative :39880\n",
      "false positive :62\n",
      "false negative :436\n",
      "accuracy : 0.9876683835182251\n",
      "recall : 0.013574660633484163\n",
      "F1 score :0.023529411764705885\n",
      "fold 2 ======================================================================== \n",
      "done with mapper.......\n",
      "done with building tree.....\n",
      "for threshold = 0 ==========\n",
      "true positive :441\n",
      "true negative :0\n",
      "false positive :39942\n",
      "false negative :0\n",
      "accuracy : 0.0109204368174727\n",
      "recall : 1.0\n",
      "F1 score :0.02160493827160494\n",
      "for threshold = 1 ==========\n",
      "true positive :127\n",
      "true negative :36324\n",
      "false positive :3618\n",
      "false negative :314\n",
      "accuracy : 0.9026322957680212\n",
      "recall : 0.28798185941043086\n",
      "F1 score :0.0606784519827998\n",
      "for threshold = 2 ==========\n",
      "true positive :32\n",
      "true negative :39498\n",
      "false positive :444\n",
      "false negative :409\n",
      "accuracy : 0.9788772503281084\n",
      "recall : 0.07256235827664399\n",
      "F1 score :0.0697928026172301\n",
      "for threshold = 3 ==========\n",
      "true positive :5\n",
      "true negative :39899\n",
      "false positive :43\n",
      "false negative :436\n",
      "accuracy : 0.9881385731619741\n",
      "recall : 0.011337868480725623\n",
      "F1 score :0.02044989775051125\n",
      "for threshold = 4 ==========\n",
      "true positive :0\n",
      "true negative :39937\n",
      "false positive :5\n",
      "false negative :441\n",
      "accuracy : 0.9889557487061387\n",
      "recall : 0.0\n",
      "F1 score :error\n",
      "fold 3 ======================================================================== \n",
      "done with mapper.......\n",
      "done with building tree.....\n",
      "for threshold = 0 ==========\n",
      "true positive :441\n",
      "true negative :0\n",
      "false positive :39942\n",
      "false negative :0\n",
      "accuracy : 0.0109204368174727\n",
      "recall : 1.0\n",
      "F1 score :0.02160493827160494\n",
      "for threshold = 1 ==========\n",
      "true positive :112\n",
      "true negative :36359\n",
      "false positive :3583\n",
      "false negative :329\n",
      "accuracy : 0.9031275536735756\n",
      "recall : 0.25396825396825395\n",
      "F1 score :0.054158607350096706\n",
      "for threshold = 2 ==========\n",
      "true positive :20\n",
      "true negative :39475\n",
      "false positive :467\n",
      "false negative :421\n",
      "accuracy : 0.9780105489933884\n",
      "recall : 0.045351473922902494\n",
      "F1 score :0.043103448275862065\n",
      "for threshold = 3 ==========\n",
      "true positive :4\n",
      "true negative :39875\n",
      "false positive :67\n",
      "false negative :437\n",
      "accuracy : 0.9875195007800313\n",
      "recall : 0.009070294784580499\n",
      "F1 score :0.015625\n",
      "fold 4 ======================================================================== \n",
      "done with mapper.......\n",
      "done with building tree.....\n",
      "for threshold = 0 ==========\n",
      "true positive :441\n",
      "true negative :0\n",
      "false positive :39942\n",
      "false negative :0\n",
      "accuracy : 0.0109204368174727\n",
      "recall : 1.0\n",
      "F1 score :0.02160493827160494\n",
      "for threshold = 1 ==========\n",
      "true positive :106\n",
      "true negative :36386\n",
      "false positive :3556\n",
      "false negative :335\n",
      "accuracy : 0.9036475744744076\n",
      "recall : 0.24036281179138322\n",
      "F1 score :0.05166951011455033\n",
      "for threshold = 2 ==========\n",
      "true positive :25\n",
      "true negative :39486\n",
      "false positive :456\n",
      "false negative :416\n",
      "accuracy : 0.9784067553178317\n",
      "recall : 0.05668934240362812\n",
      "F1 score :0.05422993492407809\n",
      "for threshold = 3 ==========\n",
      "true positive :4\n",
      "true negative :39883\n",
      "false positive :59\n",
      "false negative :437\n",
      "accuracy : 0.9877176039422529\n",
      "recall : 0.009070294784580499\n",
      "F1 score :0.015873015873015872\n"
     ]
    }
   ],
   "source": [
    "from sklearn.model_selection import StratifiedKFold\n",
    "from annoy import AnnoyIndex\n",
    "\n",
    "folds = StratifiedKFold(n_splits=5, shuffle=True, random_state=123)\n",
    "for n_fold, (trn_idx, val_idx) in enumerate(folds.split(train_df,target_bin)):\n",
    "    print('fold {} ======================================================================== '.format(n_fold))\n",
    "    trn_x, trn_y = train_df.iloc[trn_idx], target_bin.iloc[trn_idx]\n",
    "    val_x, val_y = train_df.iloc[val_idx], target_bin.iloc[val_idx]\n",
    "    \n",
    "    mapper = {}\n",
    "    i = 0\n",
    "    for index, row in trn_x.iterrows():\n",
    "        mapper[i] = row['card_id']\n",
    "        i +=1\n",
    "    print('done with mapper.......')\n",
    "    del trn_x['card_id']\n",
    "    trn_x  = trn_x.select_dtypes(include=['float'])\n",
    "    f =  trn_x.shape[1]\n",
    "    t = AnnoyIndex(f)  # Length of item vector that will be indexed\n",
    "\n",
    "    train_list = trn_x.values.tolist()\n",
    "\n",
    "\n",
    "    for k in range(len(trn_x)):\n",
    "        t.add_item(k,train_list[k])\n",
    "    t.build(10)\n",
    "    print('done with building tree.....')\n",
    "    \n",
    "    #get the list of outlier card\n",
    "    outlier_list = outlier_card['card_id'].values.tolist()\n",
    "    test_cardid = val_x['card_id']\n",
    "\n",
    "    val_x  = val_x.select_dtypes(include=['float'])\n",
    "    val_x['card_id'] = test_cardid #add card_id to be the last column\n",
    "    \n",
    "    val_x['embedding'] = val_x.iloc[:,:-1].values.tolist() #add embedding column\n",
    "    val_x = val_x.iloc[ :, -2:]\n",
    "    \n",
    "    val_x['nn_neighbor'] =  val_x['embedding'].apply(lambda x : t.get_nns_by_vector(x,10, include_distances=False))\n",
    "\n",
    "    val_x['score'] = val_x['nn_neighbor'].apply(lambda x :return_card_id(x,mapper,outlier_list))\n",
    "    \n",
    "    val_x['true_label']= val_y\n",
    "    \n",
    "    max_thres = val_x['score'].max()\n",
    "    gc.collect()\n",
    "    for thres in range(max_thres):\n",
    "        print ('for threshold = {} =========='.format(thres))\n",
    "        tp =  true_pos(thres,'score','true_label',val_x)\n",
    "        tn =  true_neg(thres,'score','true_label',val_x)\n",
    "        fp =  false_pos(thres,'score','true_label',val_x)\n",
    "        fn =  false_neg(thres,'score','true_label',val_x)\n",
    "        precision = cal_precision(fp,fn,tp,tn)\n",
    "        recall = cal_recall(fp,fn,tp,tn)\n",
    "        f1 = f1_score(precision, recall)\n",
    "        print('true positive :{}'.format(tp))\n",
    "        print('true negative :{}'.format(tn))\n",
    "        print('false positive :{}'.format(fp))\n",
    "        print('false negative :{}'.format(fn))\n",
    "        print('accuracy : {}'.format((tp+tn)/(fp+ tp+ fn+ tn)))\n",
    "        print('recall : {}'.format(recall))\n",
    "        print('F1 score :{}'.format(f1))\n",
    "#         print(tp , tn, fp,fn,precision,recall,f1)"
   ]
  },
  {
   "cell_type": "code",
   "execution_count": 49,
   "metadata": {},
   "outputs": [
    {
     "data": {
      "text/html": [
       "<div>\n",
       "<style scoped>\n",
       "    .dataframe tbody tr th:only-of-type {\n",
       "        vertical-align: middle;\n",
       "    }\n",
       "\n",
       "    .dataframe tbody tr th {\n",
       "        vertical-align: top;\n",
       "    }\n",
       "\n",
       "    .dataframe thead th {\n",
       "        text-align: right;\n",
       "    }\n",
       "</style>\n",
       "<table border=\"1\" class=\"dataframe\">\n",
       "  <thead>\n",
       "    <tr style=\"text-align: right;\">\n",
       "      <th></th>\n",
       "      <th>a</th>\n",
       "      <th>b</th>\n",
       "      <th>c</th>\n",
       "    </tr>\n",
       "  </thead>\n",
       "  <tbody>\n",
       "    <tr>\n",
       "      <th>0</th>\n",
       "      <td>1</td>\n",
       "      <td>2</td>\n",
       "      <td>3</td>\n",
       "    </tr>\n",
       "    <tr>\n",
       "      <th>1</th>\n",
       "      <td>4</td>\n",
       "      <td>5</td>\n",
       "      <td>6</td>\n",
       "    </tr>\n",
       "    <tr>\n",
       "      <th>2</th>\n",
       "      <td>7</td>\n",
       "      <td>8</td>\n",
       "      <td>9</td>\n",
       "    </tr>\n",
       "  </tbody>\n",
       "</table>\n",
       "</div>"
      ],
      "text/plain": [
       "   a  b  c\n",
       "0  1  2  3\n",
       "1  4  5  6\n",
       "2  7  8  9"
      ]
     },
     "execution_count": 49,
     "metadata": {},
     "output_type": "execute_result"
    }
   ],
   "source": [
    "df2 = pd.DataFrame(np.array([[1, 2, 3], [4, 5, 6], [7, 8, 9]]), columns=['a', 'b', 'c'])\n",
    "    \n",
    "df2.head()"
   ]
  },
  {
   "cell_type": "code",
   "execution_count": 50,
   "metadata": {},
   "outputs": [
    {
     "data": {
      "text/html": [
       "<div>\n",
       "<style scoped>\n",
       "    .dataframe tbody tr th:only-of-type {\n",
       "        vertical-align: middle;\n",
       "    }\n",
       "\n",
       "    .dataframe tbody tr th {\n",
       "        vertical-align: top;\n",
       "    }\n",
       "\n",
       "    .dataframe thead th {\n",
       "        text-align: right;\n",
       "    }\n",
       "</style>\n",
       "<table border=\"1\" class=\"dataframe\">\n",
       "  <thead>\n",
       "    <tr style=\"text-align: right;\">\n",
       "      <th></th>\n",
       "      <th>d</th>\n",
       "    </tr>\n",
       "  </thead>\n",
       "  <tbody>\n",
       "    <tr>\n",
       "      <th>0</th>\n",
       "      <td>[1, 2]</td>\n",
       "    </tr>\n",
       "    <tr>\n",
       "      <th>1</th>\n",
       "      <td>[4, 5]</td>\n",
       "    </tr>\n",
       "    <tr>\n",
       "      <th>2</th>\n",
       "      <td>[7, 8]</td>\n",
       "    </tr>\n",
       "  </tbody>\n",
       "</table>\n",
       "</div>"
      ],
      "text/plain": [
       "        d\n",
       "0  [1, 2]\n",
       "1  [4, 5]\n",
       "2  [7, 8]"
      ]
     },
     "execution_count": 50,
     "metadata": {},
     "output_type": "execute_result"
    }
   ],
   "source": [
    "df2['d'] = df2.iloc[:,:-1].values.tolist()\n",
    "df2 = df2.iloc[ :, -1:]\n",
    "df2"
   ]
  },
  {
   "cell_type": "code",
   "execution_count": null,
   "metadata": {},
   "outputs": [],
   "source": []
  }
 ],
 "metadata": {
  "kernelspec": {
   "display_name": "Python 3",
   "language": "python",
   "name": "python3"
  },
  "language_info": {
   "codemirror_mode": {
    "name": "ipython",
    "version": 3
   },
   "file_extension": ".py",
   "mimetype": "text/x-python",
   "name": "python",
   "nbconvert_exporter": "python",
   "pygments_lexer": "ipython3",
   "version": "3.7.2"
  }
 },
 "nbformat": 4,
 "nbformat_minor": 2
}
