{
 "cells": [
  {
   "cell_type": "code",
   "execution_count": 4,
   "metadata": {},
   "outputs": [
    {
     "name": "stdout",
     "output_type": "stream",
     "text": [
      "<class 'str'>\n"
     ]
    }
   ],
   "source": [
    "import pandas as pd\n",
    "import  numpy as np\n",
    "import os\n",
    "import datetime\n",
    "\n",
    "now = datetime.datetime.now()\n",
    "print (type(str(now.strftime(\"%d%m%Y\"))))"
   ]
  },
  {
   "cell_type": "code",
   "execution_count": 8,
   "metadata": {},
   "outputs": [],
   "source": [
    "root_private = 'CV3667_LB3676_090219'\n",
    "root_public = 'LB3689_xgb'\n",
    "sample_submission = pd.read_csv('../1_rawdata/sample_submission.csv')\n",
    "private_best =  pd.read_csv('../7_blendingdata/10022019_40_CV3667_LB3689_090219_Blend2_60_manual_min/submission.csv')\n",
    "public_best =  pd.read_csv('../7_blendingdata/15022019_Kaggle_LB3691/' + root_public+'.csv')\n",
    "weight_private = 0.6\n",
    "weight_public = 0.4\n",
    "sample_submission['target'] = private_best['target'] * weight_private + public_best['target'] * weight_public"
   ]
  },
  {
   "cell_type": "code",
   "execution_count": 9,
   "metadata": {},
   "outputs": [
    {
     "name": "stdout",
     "output_type": "stream",
     "text": [
      "15022019_60_CV3667_LB3676_090219_40_CV3667_LB3676_090219\n",
      "/home/tung/Dropbox/Programming Project/untitled/repo/Kaggle-Competition/Elo-Merchant-Kaggle-2019/7_blendingdata/15022019_60_CV3667_LB3676_090219_40_CV3667_LB3676_090219/submission.csv\n"
     ]
    }
   ],
   "source": [
    "myfolder = (str(now.strftime(\"%d%m%Y\")))  + '_'+ str(int(weight_private*100)) + '_'+root_private + '_'+ str(int(weight_public*100)) + '_' + root_public\n",
    "print(myfolder)\n",
    "mypath = '/home/tung/Dropbox/Programming Project/untitled/repo/Kaggle-Competition/Elo-Merchant-Kaggle-2019/7_blendingdata/' +myfolder \n",
    "if not os.path.isdir(mypath):\n",
    "   os.makedirs(mypath)\n",
    "myfile = mypath+'/submission.csv'\n",
    "print(myfile)\n",
    "sample_submission.to_csv(myfile,index = False )"
   ]
  },
  {
   "cell_type": "code",
   "execution_count": null,
   "metadata": {},
   "outputs": [],
   "source": []
  },
  {
   "cell_type": "code",
   "execution_count": null,
   "metadata": {},
   "outputs": [],
   "source": []
  }
 ],
 "metadata": {
  "kernelspec": {
   "display_name": "Python 3",
   "language": "python",
   "name": "python3"
  },
  "language_info": {
   "codemirror_mode": {
    "name": "ipython",
    "version": 3
   },
   "file_extension": ".py",
   "mimetype": "text/x-python",
   "name": "python",
   "nbconvert_exporter": "python",
   "pygments_lexer": "ipython3",
   "version": "3.7.2"
  }
 },
 "nbformat": 4,
 "nbformat_minor": 2
}
