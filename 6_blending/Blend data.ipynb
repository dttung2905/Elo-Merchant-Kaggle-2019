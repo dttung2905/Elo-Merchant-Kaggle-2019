{
 "cells": [
  {
   "cell_type": "code",
   "execution_count": 1,
   "metadata": {},
   "outputs": [
    {
     "name": "stdout",
     "output_type": "stream",
     "text": [
      "<class 'str'>\n"
     ]
    }
   ],
   "source": [
    "import pandas as pd\n",
    "import  numpy as np\n",
    "import os\n",
    "import datetime\n",
    "\n",
    "now = datetime.datetime.now()\n",
    "print (type(str(now.strftime(\"%d%m%Y\"))))"
   ]
  },
  {
   "cell_type": "code",
   "execution_count": 2,
   "metadata": {},
   "outputs": [],
   "source": [
    "root_tung = 'CV3667_LB3689_090219_Blend2'\n",
    "root_zehai = 'manual_min'\n",
    "\n",
    "sample_submission = pd.read_csv('../1_rawdata/sample_submission.csv')\n",
    "tung_best =  pd.read_csv('../5_submission/' + root_tung+'.csv')\n",
    "zehai_best =  pd.read_csv('../5_submission/' + root_zehai+'.csv')\n",
    "weight_tung = 0.6\n",
    "weight_zehai = 0.4\n",
    "sample_submission['target'] = tung_best['target'] * weight_tung + zehai_best['target'] * weight_zehai"
   ]
  },
  {
   "cell_type": "code",
   "execution_count": 3,
   "metadata": {},
   "outputs": [
    {
     "name": "stdout",
     "output_type": "stream",
     "text": [
      "10022019_60_CV3667_LB3689_090219_Blend2_40_manual_min\n",
      "/home/tung/Dropbox/Programming Project/untitled/repo/Kaggle-Competition/2.Elo Merchant/7_blendingdata/10022019_60_CV3667_LB3689_090219_Blend2_40_manual_min/submission.csv\n"
     ]
    }
   ],
   "source": [
    "myfolder = (str(now.strftime(\"%d%m%Y\")))  + '_'+ str(int(weight_tung*100)) + '_'+root_tung + '_'+ str(int(weight_zehai*100)) + '_' + root_zehai\n",
    "print(myfolder)\n",
    "mypath = '/home/tung/Dropbox/Programming Project/untitled/repo/Kaggle-Competition/2.Elo Merchant/7_blendingdata/' +myfolder \n",
    "if not os.path.isdir(mypath):\n",
    "   os.makedirs(mypath)\n",
    "myfile = mypath+'/submission.csv'\n",
    "print(myfile)\n",
    "sample_submission.to_csv(myfile,index = False )"
   ]
  },
  {
   "cell_type": "code",
   "execution_count": null,
   "metadata": {},
   "outputs": [],
   "source": []
  }
 ],
 "metadata": {
  "kernelspec": {
   "display_name": "Python 3",
   "language": "python",
   "name": "python3"
  },
  "language_info": {
   "codemirror_mode": {
    "name": "ipython",
    "version": 3
   },
   "file_extension": ".py",
   "mimetype": "text/x-python",
   "name": "python",
   "nbconvert_exporter": "python",
   "pygments_lexer": "ipython3",
   "version": "3.7.2"
  }
 },
 "nbformat": 4,
 "nbformat_minor": 2
}
